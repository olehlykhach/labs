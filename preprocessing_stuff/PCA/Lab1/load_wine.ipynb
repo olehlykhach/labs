{
  "nbformat": 4,
  "nbformat_minor": 0,
  "metadata": {
    "colab": {
      "provenance": []
    },
    "kernelspec": {
      "name": "python3",
      "display_name": "Python 3"
    },
    "language_info": {
      "name": "python"
    }
  },
  "cells": [
    {
      "cell_type": "code",
      "execution_count": 1,
      "metadata": {
        "colab": {
          "base_uri": "https://localhost:8080/",
          "height": 335
        },
        "id": "WjRw3W7MCiSQ",
        "outputId": "bdb9e9ae-8647-456b-b74f-5c90126d219d"
      },
      "outputs": [
        {
          "output_type": "stream",
          "name": "stderr",
          "text": [
            "<ipython-input-1-67e2128754a6>:32: UserWarning: *c* argument looks like a single numeric RGB or RGBA sequence, which should be avoided as value-mapping will have precedence in case its length matches with *x* & *y*.  Please use the *color* keyword-argument or provide a 2D array with a single row if you intend to specify the same RGB or RGBA value for all points.\n",
            "  plt.scatter(pten_cluster_entries_1[cl_inx][0], pten_cluster_entries_1[cl_inx][1], s=10, c=np.random.rand(3,),\n"
          ]
        },
        {
          "output_type": "display_data",
          "data": {
            "text/plain": [
              "<Figure size 432x288 with 1 Axes>"
            ],
            "image/png": "[encoded data removed]"
          },
          "metadata": {
            "needs_background": "light"
          }
        }
      ],
      "source": [
        "from sklearn.datasets import load_wine\n",
        "import numpy as np\n",
        "import matplotlib.pyplot as plt\n",
        "\n",
        "data = load_wine()\n",
        "x_data = data.data\n",
        "y_data = data.target\n",
        "\n",
        "def pca(X, n_components):\n",
        "    X_std = (X - np.mean(X, axis=0)) / np.std(X, axis=0)\n",
        "    cov_mat = np.cov(X_std, rowvar=False)\n",
        "    eigenvalues, eigenvectors = np.linalg.eig(cov_mat)\n",
        "    idx = np.argsort(eigenvalues)[::-1][:n_components]\n",
        "    eigenvectors = eigenvectors[:, idx]\n",
        "    X_pca = np.dot(X_std, eigenvectors)\n",
        "    explained_variance = eigenvalues / np.sum(eigenvalues)\n",
        "    return X_pca, explained_variance\n",
        "\n",
        "x_trans_data, ev = pca(x_data, n_components=2)\n",
        "plt.title('PCA transformed data')\n",
        "pten_cluster_entries_1 = []\n",
        "for cl in np.unique(y_data):\n",
        "    pvec_cluster_entries_axis_0 = []\n",
        "    pvec_cluster_entries_axis_1 = []\n",
        "    for en in range(len(x_trans_data)):\n",
        "        if cl == y_data[en]:\n",
        "            pvec_cluster_entries_axis_0.append(x_trans_data[en][0])\n",
        "            pvec_cluster_entries_axis_1.append(x_trans_data[en][1])\n",
        "    pten_cluster_entries_1.append([pvec_cluster_entries_axis_0, pvec_cluster_entries_axis_1])\n",
        "\n",
        "for cl_inx in range(len(pten_cluster_entries_1)):\n",
        "        plt.scatter(pten_cluster_entries_1[cl_inx][0], pten_cluster_entries_1[cl_inx][1], s=10, c=np.random.rand(3,),\n",
        "                       marker='o', label=f'class {cl_inx}')\n",
        "plt.legend(loc='upper left')\n",
        "plt.tick_params(axis='both', which='major', labelsize=9)\n",
        "\n",
        "plt.show()"
      ]
    }
  ]
}