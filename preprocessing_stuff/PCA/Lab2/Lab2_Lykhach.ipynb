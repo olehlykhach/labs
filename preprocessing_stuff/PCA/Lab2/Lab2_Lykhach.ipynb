{
  "nbformat": 4,
  "nbformat_minor": 0,
  "metadata": {
    "colab": {
      "provenance": []
    },
    "kernelspec": {
      "name": "python3",
      "display_name": "Python 3"
    },
    "language_info": {
      "name": "python"
    }
  },
  "cells": [
    {
      "cell_type": "code",
      "execution_count": 1,
      "metadata": {
        "colab": {
          "base_uri": "https://localhost:8080/"
        },
        "id": "ZPYgX3Rw1tBT",
        "outputId": "352c0433-f54f-47cf-97ae-9976dd9cd3be"
      },
      "outputs": [
        {
          "output_type": "stream",
          "name": "stdout",
          "text": [
            "\n",
            "------Досягнуте значення помилки-----\n",
            "[[ 8.88178420e-16 -3.05311332e-16]\n",
            " [ 4.69069228e-15  2.77555756e-16]\n",
            " [ 1.99840144e-15 -2.22044605e-16]]\n",
            "\n",
            "Порівняння виходів (у) та вихідних данних за результатами навчання (layer_3)\n",
            "[[0.8 0.1]\n",
            " [0.2 0.2]\n",
            " [0.6 0.3]]\n",
            "[[0.8 0.1]\n",
            " [0.2 0.2]\n",
            " [0.6 0.3]]\n"
          ]
        }
      ],
      "source": [
        "import numpy as np\n",
        "\n",
        "def tanh(x):\n",
        "    return np.tanh(x)\n",
        "\n",
        "def tanh_derivative(x):\n",
        "    return 1 - np.tanh(x)**2\n",
        "\n",
        "\n",
        "X = np.array([[0.43, 0.75, 0.05],\n",
        "              [0.32, 0.2, 0.9],\n",
        "              [0.7, 0.3, 0.06]])\n",
        "\n",
        "y = np.array([[0.8, 0.1],\n",
        "              [0.2, 0.2],\n",
        "              [0.6, 0.3]])\n",
        "\n",
        "weights_1 = np.random.random((3, 4)) - 0.5\n",
        "weights_2 = np.random.random((4, 4)) - 0.5\n",
        "weights_3 = np.random.random((4, 2)) - 0.5\n",
        "\n",
        "result_error = 0;\n",
        "\n",
        "num_iterations = 10000\n",
        "\n",
        "for i in range(num_iterations):\n",
        "\n",
        "    layer_1 = tanh(np.dot(X, weights_1))\n",
        "    layer_2 = tanh(np.dot(layer_1, weights_2))\n",
        "    layer_3 = tanh(np.dot(layer_2, weights_3))\n",
        "\n",
        "\n",
        "    error = y - layer_3\n",
        "\n",
        "    layer_3_gradient = error * tanh_derivative(layer_3)\n",
        "    layer_2_gradient = layer_3_gradient.dot(weights_3.T) * tanh_derivative(layer_2)\n",
        "    layer_1_gradient = layer_2_gradient.dot(weights_2.T) * tanh_derivative(layer_1)\n",
        "\n",
        "    weights_3 += layer_2.T.dot(layer_3_gradient)\n",
        "    weights_2 += layer_1.T.dot(layer_2_gradient)\n",
        "    weights_1 += X.T.dot(layer_1_gradient)\n",
        "\n",
        "    result_error = error\n",
        "    \n",
        "print(\"\")\n",
        "\n",
        "print(\"------Досягнуте значення помилки-----\")\n",
        "\n",
        "print(result_error)\n",
        "print(\"\")\n",
        "\n",
        "print(\"Порівняння виходів (у) та вихідних данних за результатами навчання (layer_3)\")\n",
        "print(y)\n",
        "print(layer_3)"
      ]
    }
  ]
}